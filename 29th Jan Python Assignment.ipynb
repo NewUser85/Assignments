{
 "cells": [
  {
   "cell_type": "markdown",
   "id": "47f538f2-c6b6-4e4f-8ecf-fd2ce2acb5e1",
   "metadata": {},
   "source": [
    "1. Guido Van Rossum developed Python programming language.\n",
    "2. Python supports object oriented and structured programming.\n",
    "3. Yes, Python is case sensitive when dealing with identifiers.\n",
    "4. .ipynb is the correct extension of python file.\n",
    "5. Python code is interpreted.\n",
    "6. Function, module, class are few blocks of code used to define in Python language.\n",
    "7. "#" is used to give single line comment in Python.\n",
    "8. python_version() function helps us to find version of python we are currently working on.\n",
    "9. Python support the creation of anonymous functions at runtime, using a construct called Lambda.\n",
    "10. Pip stands for preferred installer program in Python.\n",
    "11. print(), type(), input() are few built-in functions in Python.\n",
    "12. Maximum possible length of an identifier in Python is 79 characters.\n",
    "13. Following are the benefits of using python language:\n",
    "        a. It is easy to write and interprete.\n",
    "        b. Python is open source software and hence is free to use.\n",
    "        c. Python is interpreted language which makes it faster to exceute code than other laguages.\n",
    "        d. Python has extensive library support which can used for multiple domains like data science, game and web development, finance and trading, security and penetration testing etc.\n",
    "        e. Python is portable language i.e. the same code will work on different machines.\n",
    "14. Memory management in Python involves allocating a block of space in computer memory to a program. Memory allocation and deallocation in Python is automatic, even garbage collection.\n",
    "15. Python Installation steps:\n",
    "        a. Go to Python website (https://www.python.org/downloads/)\n",
    "        b. Download the Windows installer. \n",
    "        c. Double click on the downloaded file and install Python for all users\n",
    "    Set path variables:\n",
    "        a. Right click This PC and go to Properties.\n",
    "        b Click on the Advanced system settings in the menu on the left.\n",
    "        c. Click on the Environment Variables button on the bottom right.\n",
    "        d. In the System variables section, selecting the Path variable and clicking on Edit. The next screen will show all the directories that are currently a part of the PATH variable.\n",
    "        e. Clicking on New and entering Python’s install (python.exe) directory (C:\\Users\\<USER>\\AppData\\Local\\Programs\\Python\\Python39)\n",
    "        f. Click \"OK\" to save.\n",
    "16. Yes, indentation is required in Python."
   ]
  }
 ],
 "metadata": {
  "kernelspec": {
   "display_name": "Python 3 (ipykernel)",
   "language": "python",
   "name": "python3"
  },
  "language_info": {
   "codemirror_mode": {
    "name": "ipython",
    "version": 3
   },
   "file_extension": ".py",
   "mimetype": "text/x-python",
   "name": "python",
   "nbconvert_exporter": "python",
   "pygments_lexer": "ipython3",
   "version": "3.10.8"
  }
 },
 "nbformat": 4,
 "nbformat_minor": 5
}
